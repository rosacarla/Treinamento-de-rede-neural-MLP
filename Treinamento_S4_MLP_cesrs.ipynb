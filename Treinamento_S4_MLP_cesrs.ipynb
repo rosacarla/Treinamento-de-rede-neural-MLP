{
  "nbformat": 4,
  "nbformat_minor": 0,
  "metadata": {
    "colab": {
      "provenance": [],
      "authorship_tag": "ABX9TyNqjvte0//95P69HlaF9Ekd",
      "include_colab_link": true
    },
    "kernelspec": {
      "name": "python3",
      "display_name": "Python 3"
    },
    "language_info": {
      "name": "python"
    }
  },
  "cells": [
    {
      "cell_type": "markdown",
      "metadata": {
        "id": "view-in-github",
        "colab_type": "text"
      },
      "source": [
        "<a href=\"https://colab.research.google.com/github/rosacarla/treinamento-de-rede-neural-MLP/blob/main/Treinamento_S4_MLP_cesrs.ipynb\" target=\"_parent\"><img src=\"https://colab.research.google.com/assets/colab-badge.svg\" alt=\"Open In Colab\"/></a>"
      ]
    },
    {
      "cell_type": "markdown",
      "source": [
        "# <b>TREINAMENTO DE REDE NEURAL MLP - ATIVIDADE SOMATIVA 1</b>\n",
        "CURSO: TECNOLOGIA EM INTELIGÊNCIA ARTIFICIAL APLICADA  \n",
        "DISCIPILINA: REDES NEURAIS  \n",
        "ESTUDANTE: CARLA EDILA SILVEIRA  \n",
        "OBJETIVO: treinamento de rede neural MLP para identificação correta de números manuscritos de 0 a 9 em dois conjuntos de imagens, mediante diferentes combinações de parâmetros ajustáveis do modelo.  \n",
        "DATA: 10/09/2023  \n",
        "\n",
        "<body>\n",
        "<img src=\"https://www.hardware.com.br/wp-content/uploads/2023/04/shutterstock_728178127-scaled-1-2048x819.jpg\" width=970 height=296>\n",
        "</body>"
      ],
      "metadata": {
        "id": "OCnpQAifZmer"
      }
    },
    {
      "cell_type": "code",
      "source": [
        "# IMPORTAÇÃO DE BIBLIOTECAS\n",
        "import matplotlib.pyplot as plt\n",
        "import numpy as np\n",
        "import tensorflow as tensorflow\n",
        "from tensorflow.keras.models import Sequential\n",
        "from tensorflow.keras.layers import Dense\n",
        "from sklearn.model_selection import train_test_split\n",
        "from PIL import Image"
      ],
      "metadata": {
        "id": "qpm6A8fza-UF"
      },
      "execution_count": null,
      "outputs": []
    },
    {
      "cell_type": "code",
      "source": [
        "# CRIAÇÃO DO MODELO MLP\n",
        "model = Sequential()"
      ],
      "metadata": {
        "id": "DQayCk1jbRtt"
      },
      "execution_count": null,
      "outputs": []
    },
    {
      "cell_type": "code",
      "execution_count": null,
      "metadata": {
        "id": "0dX7smT5ZlVC"
      },
      "outputs": [],
      "source": [
        "# DEFINIÇÃO DA QUANTIDADE DE NEURÔNIOS DAS CAMADAS\n",
        "n1 = 28 # Quantidade de neuronios da Camada Oculta 1\n",
        "n2 = 32 # Quantidade de neuronios da Camada Oculta 2\n",
        "n3 = 20 # Quantidade de neuronios da Camada Oculta 3\n",
        "ns = 20 # Quantidade de neuronios da Camada de Sai­da"
      ]
    },
    {
      "cell_type": "code",
      "source": [
        "# DEFINIÇÃO DAS FUNÇÕES DE ATIVAÇÃO\n",
        "    # relu    -> Rectified Linear Unit (Unidade Linear Retificada)\n",
        "    # sigmoid -> sigmoid(x) = 1 / (1 + exp(-x))\n",
        "    # tanh    -> Tangente hiperbolica\n",
        "    # softmax -> Utilizada na camada de sai­da\n",
        "\n",
        "# Selecione a Funcao de Ativacao da Camada Oculta 1\n",
        "fa1 = 'tanh'\n",
        "\n",
        "# Selecione a Funcao de Ativacao da Camada Oculta 2\n",
        "fa2 = 'relu'\n",
        "\n",
        "# Selecione a Funcao de Ativacao da Camada de Sai­da\n",
        "fas = 'sigmoid'"
      ],
      "metadata": {
        "id": "AdUKm6fcbjJ5"
      },
      "execution_count": null,
      "outputs": []
    },
    {
      "cell_type": "code",
      "source": [
        "# ADIÇÃO DE CAMADAS A REDE NEURAL\n",
        "\n",
        "# Primeira Camada Oculta:\n",
        "# Com 784 neuronios na camada de entrada -> 28x28 pixels (tamanho das imagens)\n",
        "model.add(Dense(units=n1, activation=fa1, input_dim=784))\n",
        "\n",
        "# Segunda Camada Oculta (desabilitada por padrao)\n",
        "#model.add(Dense(units=n2, activation=fa2))\n",
        "\n",
        "# Camada de Sai­da\n",
        "model.add(Dense(units=ns, activation=fas))"
      ],
      "metadata": {
        "id": "lHrl2KURbwJp"
      },
      "execution_count": null,
      "outputs": []
    },
    {
      "cell_type": "code",
      "source": [
        "# DEFINIÇÃO DA FUNÇÃO DE PERDA\n",
        "    # mean_squared_error       -> Erro quadratico medio.\n",
        "    # binary_crossentropy      -> Entropia cruzada binaria.\n",
        "    # categorical_crossentropy -> Entropia cruzada categorica.\n",
        "    # mean_absolute_error      -> Erro absoluto medio.\n",
        "\n",
        "# INSERIR ABAIXO A FUNÇÃO DE PERDA ESCOLHIDA\n",
        "fp = 'mean_squared_error'"
      ],
      "metadata": {
        "id": "gIaRK_Q3bw77"
      },
      "execution_count": null,
      "outputs": []
    },
    {
      "cell_type": "code",
      "source": [
        "# DEFINIÇÃO DO OTIMIZADOR\n",
        "    # sgd     -> Descida de gradiente estocastico (SGD).\n",
        "    # adam    -> SGD com adaptacao de taxa de aprendizado.\n",
        "    # rmsprop -> Baseado em Root Mean Square Propagation.\n",
        "    # adagrad -> Adapta a taxa de aprendizado para cada parametro.\n",
        "\n",
        "# INSERIR ABAIXO O OTIMIZADOR ESCOLHIDO\n",
        "otimizador = 'adam'"
      ],
      "metadata": {
        "id": "zMm5_k75b0qE"
      },
      "execution_count": null,
      "outputs": []
    },
    {
      "cell_type": "code",
      "source": [
        "# DEFINIÇÃO DA MÉTRICA DE DESEMPENHO\n",
        "    # accuracy            -> Acuracia.\n",
        "    # mean_squared_error  -> Erro quadratico medio.\n",
        "    # mean_absolute_error -> Erro absoluto medio.\n",
        "\n",
        "# INSERIR ABAIXO A MÉTRICA ESCOLHIDA\n",
        "metrica = 'accuracy'"
      ],
      "metadata": {
        "id": "Qp8vuduKb4X8"
      },
      "execution_count": null,
      "outputs": []
    },
    {
      "cell_type": "code",
      "source": [
        "# COMPILAÇÃO DO MODELO\n",
        "\n",
        "model.compile(loss=fp, optimizer=otimizador, metrics=[metrica])"
      ],
      "metadata": {
        "id": "qNSBM7lVb8eH"
      },
      "execution_count": null,
      "outputs": []
    },
    {
      "cell_type": "code",
      "source": [
        "# CARREGAMENTO DOS DADOS DE TREINAMENTO E TESTE\n",
        "\n",
        "(x_train, y_train), (x_test, y_test) =\\\n",
        "    tensorflow.keras.datasets.mnist.load_data()"
      ],
      "metadata": {
        "id": "Qh5YwjYtb_9R"
      },
      "execution_count": null,
      "outputs": []
    },
    {
      "cell_type": "code",
      "source": [
        "# PRÉ-PROCESSAMENTO DOS DADOS\n",
        "\n",
        "# Redimensionar as imagens para um vetor unidimensional\n",
        "x_train = x_train.reshape(-1, 784)\n",
        "x_test = x_test.reshape(-1, 784)\n",
        "\n",
        "# Converter para tipo float32\n",
        "x_train = x_train.astype('float32')\n",
        "x_test = x_test.astype('float32')\n",
        "\n",
        "# Normalizar os valores dos pixels para o intervalo [0, 1]\n",
        "x_train /= 255.0\n",
        "x_test /= 255.0"
      ],
      "metadata": {
        "id": "T9HuoYNGcCt2"
      },
      "execution_count": null,
      "outputs": []
    },
    {
      "cell_type": "code",
      "source": [
        "# TRANSFORMAÇÃO DOS RÓTULOS EM CODIFICAÇÃO ONE-HOT\n",
        "\n",
        "y_train = tensorflow.keras.utils.to_categorical(y_train, num_classes=ns)\n",
        "y_test = tensorflow.keras.utils.to_categorical(y_test, num_classes=ns)"
      ],
      "metadata": {
        "id": "ZOLTjEmMcGdD"
      },
      "execution_count": null,
      "outputs": []
    },
    {
      "cell_type": "code",
      "source": [
        "# DEFINIÇÃO DO PERCENTUAL DO CONJUNTO DE DADOS DE TESTE\n",
        "\n",
        "dados_teste = 0.4 # 0.3 significa 30%\n",
        "# Aumentou-se % por haver poucos dados para MLP"
      ],
      "metadata": {
        "id": "at85Fb6xcL5h"
      },
      "execution_count": null,
      "outputs": []
    },
    {
      "cell_type": "code",
      "source": [
        "# DIVISÃO DOS DADOS EM CONJUNTOS DE TREINAMENTO E TESTE\n",
        "\n",
        "x_train, x_test, y_train, y_test =\\\n",
        "    train_test_split(x_train, y_train, \\\n",
        "    test_size=dados_teste, random_state=42)"
      ],
      "metadata": {
        "id": "FovmiMPFcObF"
      },
      "execution_count": null,
      "outputs": []
    },
    {
      "cell_type": "code",
      "source": [
        "# DEFINIÇÃO DO NÚMERO DE ÉPOCAS E NÚMERO DE AMOSTRAS\n",
        "\n",
        "epocas = 20\n",
        "amostras = 128"
      ],
      "metadata": {
        "id": "GM8Y9mJscWLy"
      },
      "execution_count": null,
      "outputs": []
    },
    {
      "cell_type": "code",
      "source": [
        "# TREINAMENTO DA REDE NEURAL MLP\n",
        "\n",
        "print('\\n' + '=' * 70)\n",
        "print('INICIANDO O TREINAMENTO DO MODELO... \\n')\n",
        "\n",
        "model.fit(x_train, y_train, epochs = epocas, batch_size = amostras)"
      ],
      "metadata": {
        "colab": {
          "base_uri": "https://localhost:8080/"
        },
        "id": "UgEyRWq1cXE_",
        "outputId": "2636aa93-a879-4d19-a91d-a642bf311238"
      },
      "execution_count": null,
      "outputs": [
        {
          "output_type": "stream",
          "name": "stdout",
          "text": [
            "\n",
            "======================================================================\n",
            "INICIANDO O TREINAMENTO DO MODELO... \n",
            "\n",
            "Epoch 1/20\n",
            "282/282 [==============================] - 2s 3ms/step - loss: 0.0488 - accuracy: 0.5715\n",
            "Epoch 2/20\n",
            "282/282 [==============================] - 1s 3ms/step - loss: 0.0193 - accuracy: 0.8597\n",
            "Epoch 3/20\n",
            "282/282 [==============================] - 1s 3ms/step - loss: 0.0131 - accuracy: 0.8900\n",
            "Epoch 4/20\n",
            "282/282 [==============================] - 1s 3ms/step - loss: 0.0105 - accuracy: 0.9021\n",
            "Epoch 5/20\n",
            "282/282 [==============================] - 1s 3ms/step - loss: 0.0090 - accuracy: 0.9099\n",
            "Epoch 6/20\n",
            "282/282 [==============================] - 1s 3ms/step - loss: 0.0081 - accuracy: 0.9159\n",
            "Epoch 7/20\n",
            "282/282 [==============================] - 1s 3ms/step - loss: 0.0074 - accuracy: 0.9220\n",
            "Epoch 8/20\n",
            "282/282 [==============================] - 1s 3ms/step - loss: 0.0069 - accuracy: 0.9251\n",
            "Epoch 9/20\n",
            "282/282 [==============================] - 1s 3ms/step - loss: 0.0065 - accuracy: 0.9283\n",
            "Epoch 10/20\n",
            "282/282 [==============================] - 1s 3ms/step - loss: 0.0062 - accuracy: 0.9327\n",
            "Epoch 11/20\n",
            "282/282 [==============================] - 1s 3ms/step - loss: 0.0059 - accuracy: 0.9348\n",
            "Epoch 12/20\n",
            "282/282 [==============================] - 1s 3ms/step - loss: 0.0056 - accuracy: 0.9377\n",
            "Epoch 13/20\n",
            "282/282 [==============================] - 1s 5ms/step - loss: 0.0054 - accuracy: 0.9398\n",
            "Epoch 14/20\n",
            "282/282 [==============================] - 1s 4ms/step - loss: 0.0052 - accuracy: 0.9428\n",
            "Epoch 15/20\n",
            "282/282 [==============================] - 1s 4ms/step - loss: 0.0050 - accuracy: 0.9448\n",
            "Epoch 16/20\n",
            "282/282 [==============================] - 1s 4ms/step - loss: 0.0048 - accuracy: 0.9470\n",
            "Epoch 17/20\n",
            "282/282 [==============================] - 1s 3ms/step - loss: 0.0046 - accuracy: 0.9489\n",
            "Epoch 18/20\n",
            "282/282 [==============================] - 1s 3ms/step - loss: 0.0045 - accuracy: 0.9502\n",
            "Epoch 19/20\n",
            "282/282 [==============================] - 1s 3ms/step - loss: 0.0044 - accuracy: 0.9519\n",
            "Epoch 20/20\n",
            "282/282 [==============================] - 1s 3ms/step - loss: 0.0043 - accuracy: 0.9535\n"
          ]
        },
        {
          "output_type": "execute_result",
          "data": {
            "text/plain": [
              "<keras.src.callbacks.History at 0x7f83b60e4b20>"
            ]
          },
          "metadata": {},
          "execution_count": 2304
        }
      ]
    },
    {
      "cell_type": "code",
      "source": [
        "# MONTAGEM DO DRIVE PARA CARREGAR DADOS\n",
        "\n",
        "#from google.colab import drive\n",
        "#drive.mount(\"/content/gdrive\")"
      ],
      "metadata": {
        "id": "8cVDUzcgc8nf"
      },
      "execution_count": null,
      "outputs": []
    },
    {
      "cell_type": "code",
      "source": [
        "# Carregar e pré-processar as imagens de teste\n",
        "# HD = 'C' # Digitar a letra da Unidade de Disco\n",
        "pasta = '/content/gdrive/MyDrive/RN' # Caminho da pasta de imagens\n",
        "\n",
        "imagem0 = 'zero0.png'\n",
        "imagem1 = 'um1.png'\n",
        "imagem2 = 'dois2.png'\n",
        "imagem3 = 'tres3.png'\n",
        "imagem4 = 'quatro4.png'\n",
        "imagem5 = 'cinco5.png'\n",
        "imagem6 = 'seis6.png'\n",
        "imagem7 = 'sete7.png'\n",
        "imagem8 = 'oito8.png'\n",
        "imagem9 = 'nove9.png'\n",
        "\n",
        "image_paths = {\n",
        "    pasta + '/' + imagem0 :0,\n",
        "    pasta + '/' + imagem1 :1,\n",
        "    pasta + '/' + imagem2 :2,\n",
        "    pasta + '/' + imagem3 :3,\n",
        "    pasta + '/' + imagem4 :4,\n",
        "    pasta + '/' + imagem5 :5,\n",
        "    pasta + '/' + imagem6 :6,\n",
        "    pasta + '/' + imagem7 :7,\n",
        "    pasta + '/' + imagem8 :8,\n",
        "    pasta + '/' + imagem9 :9,\n",
        "}\n",
        "\n",
        "class_names = ['0', '1', '2', '3', '4', '5', '6', '7', '8', '9']\n",
        "\n",
        "fig, axs = plt.subplots(2, 5, figsize=(8, 5))\n",
        "axs = axs.flatten()\n",
        "\n",
        "for i, (image_path, real_label) in enumerate(image_paths.items()):\n",
        "    # Carregar a imagem\n",
        "    image = Image.open(image_path).convert('L')  # Converter para escala de cinza\n",
        "    image = image.resize((28, 28))  # Redimensionar para 28x28 pixels\n",
        "    image = np.array(image)  # Converter para matriz numpy\n",
        "    image = image.reshape(1, 784)  # Redimensionar para (1, 784)\n",
        "\n",
        "    # Normalizar a imagem\n",
        "    image = image.astype('float32')\n",
        "    image /= 255.0\n",
        "\n",
        "    # Fazer a previsão da classe\n",
        "    prediction = model.predict(image)\n",
        "    predicted_class = np.argmax(prediction)\n",
        "\n",
        "    #Exibir a imagem e as informações sobre o número real e previsto\n",
        "    axs[i].imshow(np.squeeze(image.reshape(28, 28)), cmap='gray')\n",
        "    axs[i].axis('off')\n",
        "    axs[i].set_title(f'Real: {class_names[real_label]}\\nPrevisto: {class_names[predicted_class]}')\n",
        "\n",
        "# Salvar figura em arquivo de formato PNG\n",
        "plt.savefig('imagens_previsoes.png')\n",
        "\n",
        "# Ajusta a plotagem e exibe imagem com previsoes\n",
        "plt.tight_layout()\n",
        "plt.show()\n"
      ],
      "metadata": {
        "colab": {
          "base_uri": "https://localhost:8080/",
          "height": 621
        },
        "id": "_H81sCITccXT",
        "outputId": "2cb899af-bd43-4747-d5e8-2113a9b6c0df"
      },
      "execution_count": null,
      "outputs": [
        {
          "output_type": "stream",
          "name": "stdout",
          "text": [
            "1/1 [==============================] - 0s 53ms/step\n",
            "1/1 [==============================] - 0s 20ms/step\n",
            "1/1 [==============================] - 0s 21ms/step\n",
            "1/1 [==============================] - 0s 22ms/step\n",
            "1/1 [==============================] - 0s 21ms/step\n",
            "1/1 [==============================] - 0s 21ms/step\n",
            "1/1 [==============================] - 0s 21ms/step\n",
            "1/1 [==============================] - 0s 25ms/step\n",
            "1/1 [==============================] - 0s 23ms/step\n",
            "1/1 [==============================] - 0s 21ms/step\n"
          ]
        },
        {
          "output_type": "display_data",
          "data": {
            "text/plain": [
              "<Figure size 800x500 with 10 Axes>"
            ],
            "image/png": "[encoded data removed]"
          },
          "metadata": {}
        }
      ]
    },
    {
      "cell_type": "code",
      "source": [
        "# AVALIAÇÃO DO MODELO (PERDA E MÉTRICA DE DESEMPENHO)\n",
        "\n",
        "print('\\n' + '=' * 70)\n",
        "print('CÁLCULO DA FUNÇÃO DE PERDA E MÉTRICA DE DESEMPENHO\\n')\n",
        "loss, metric = model.evaluate(x_test, y_test)\n",
        "\n",
        "# Exibir a Perda e a Precisao\n",
        "print('\\n' + '=' * 70)\n",
        "print('*** DESEMPENHO DO MODELO APÓS O TREINAMENTO ***\\n')\n",
        "\n",
        "print(\"Função de Perda utilizada: \" + fp)\n",
        "print(\"Valor obtido: \" + f\" = {loss:.4f}\" + '\\n')\n",
        "\n",
        "print('-' * 70 + '\\n')\n",
        "\n",
        "print(\"Métrica de Desempenho utilizada: \" + metrica)\n",
        "print(\"Valor obtido: \" + f\" = {metric:.4f} \\n\")\n",
        "\n",
        "print('=' * 70)"
      ],
      "metadata": {
        "id": "z9USm8f2ct-Z",
        "colab": {
          "base_uri": "https://localhost:8080/"
        },
        "outputId": "19fc24e1-64c9-41f3-8b44-28723bde3d6f"
      },
      "execution_count": null,
      "outputs": [
        {
          "output_type": "stream",
          "name": "stdout",
          "text": [
            "\n",
            "======================================================================\n",
            "CÁLCULO DA FUNÇÃO DE PERDA E MÉTRICA DE DESEMPENHO\n",
            "\n",
            "750/750 [==============================] - 1s 2ms/step - loss: 0.0051 - accuracy: 0.9401\n",
            "\n",
            "======================================================================\n",
            "*** DESEMPENHO DO MODELO APÓS O TREINAMENTO ***\n",
            "\n",
            "Função de Perda utilizada: mean_squared_error\n",
            "Valor obtido:  = 0.0051\n",
            "\n",
            "----------------------------------------------------------------------\n",
            "\n",
            "Métrica de Desempenho utilizada: accuracy\n",
            "Valor obtido:  = 0.9401 \n",
            "\n",
            "======================================================================\n"
          ]
        }
      ]
    }
  ]
}